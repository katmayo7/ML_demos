{
 "cells": [
  {
   "cell_type": "markdown",
   "metadata": {},
   "source": [
    "# Regression Practice #\n",
    "\n",
    "The notebook is for practicing implementing linear and logistic regression models. The emphassis is on best implementation practices, so only uses built-in data sets for ease."
   ]
  },
  {
   "cell_type": "code",
   "execution_count": 25,
   "metadata": {},
   "outputs": [],
   "source": [
    "# import necessary packages\n",
    "\n",
    "import pandas as pd\n",
    "import numpy as np\n",
    "from sklearn import datasets, model_selection, feature_selection\n",
    "\n",
    "import sklearn.linear_model as linmodel\n",
    "import sklearn.metrics as smets\n",
    "\n",
    "#import statsmodels.api as stmod\n",
    "\n",
    "import matplotlib.pyplot as plt\n",
    "import math"
   ]
  },
  {
   "cell_type": "markdown",
   "metadata": {},
   "source": [
    "## Linear Regression ##\n",
    "\n",
    "Import built-in diabetes data set from scikit-learn. Data set has 442 samples with 10 features."
   ]
  },
  {
   "cell_type": "code",
   "execution_count": 16,
   "metadata": {},
   "outputs": [],
   "source": [
    "data = datasets.load_diabetes()\n",
    "X = data['data']\n",
    "Y = data['target']\n",
    "feature_names = data['feature_names']\n",
    "\n",
    "X_train,X_test,Y_train,Y_test = model_selection.train_test_split(X, Y, train_size=0.7)"
   ]
  },
  {
   "cell_type": "markdown",
   "metadata": {},
   "source": [
    "Create a linear regression model using all features. \n",
    "Print model information including coefficients, intercept, and R^2 value.\n",
    "Evaluate using mean squared error on the test set."
   ]
  },
  {
   "cell_type": "code",
   "execution_count": 17,
   "metadata": {},
   "outputs": [
    {
     "name": "stdout",
     "output_type": "stream",
     "text": [
      "Coefficients: [  -25.01078169  -279.20524608   510.68685703   388.68716374\n",
      " -1055.31561314   740.56169511   183.64953058   143.740268\n",
      "   869.36020183   140.38821777]\n",
      "Intercept: 151.72158943452115\n",
      "R-squared: 0.5330263073376078\n",
      "\n",
      "Mean squared error: 2770.2575755872604\n"
     ]
    }
   ],
   "source": [
    "model = linmodel.LinearRegression().fit(X_train, Y_train)\n",
    "print('Coefficients:', model.coef_)\n",
    "print('Intercept:', model.intercept_)\n",
    "rsq = model.score(X_train, Y_train)\n",
    "print('R-squared:', rsq)\n",
    "print()\n",
    "\n",
    "Y_pred = model.predict(X_test)\n",
    "mse = smets.mean_squared_error(Y_test, Y_pred)\n",
    "print('Mean squared error:', mse)"
   ]
  },
  {
   "cell_type": "markdown",
   "metadata": {},
   "source": [
    "Implement feature selection using SelectKBest() with f_regression() functions to identify the value of each feature. Graph the results to visual which features are useful."
   ]
  },
  {
   "cell_type": "code",
   "execution_count": 18,
   "metadata": {},
   "outputs": [
    {
     "data": {
      "image/png": "[encoded data removed]",
      "text/plain": [
       "<Figure size 432x288 with 1 Axes>"
      ]
     },
     "metadata": {
      "needs_background": "light"
     },
     "output_type": "display_data"
    }
   ],
   "source": [
    "# used to test the output of SelectKBest\n",
    "#f_st,p_val = feature_selection.f_regression(X_train, Y_train)\n",
    "#print(f_st)\n",
    "#print()\n",
    "#print(p_val)\n",
    "\n",
    "fit_model = feature_selection.SelectKBest(score_func=feature_selection.f_regression, k='all')\n",
    "fit_model.fit(X_train, Y_train)\n",
    "scores = fit_model.scores_\n",
    "\n",
    "x_ind = np.arange(len(scores))\n",
    "plt.bar(x_ind, scores)\n",
    "plt.show()"
   ]
  },
  {
   "cell_type": "markdown",
   "metadata": {},
   "source": [
    "Based on results, it looks like the best feature is 2, while 8 is also useful. It seems like there are several other useful features, though 1, 5, and 4 are least useful. \n",
    "\n",
    "As an arbitrary choice, I will assume adding features 2, 3, 6, 7, 8, 9 as possibly useful for model construction and worthwhile exploring. The number of features that should be used can be viewed as a hyperparameter which can be searched over. \n",
    "\n",
    "I will test constructing a model with features, in order of importance by f-statistic and find which offers the best performance on the training data as measured by mean-squared error. When adding a feature to the model, I will continue including the strategies that were deemed more important than it."
   ]
  },
  {
   "cell_type": "code",
   "execution_count": 36,
   "metadata": {},
   "outputs": [
    {
     "name": "stdout",
     "output_type": "stream",
     "text": [
      "Best features: [2, 8, 3, 9, 7]\n"
     ]
    }
   ],
   "source": [
    "# running with subsets of the data will probably be easiest by turning data into dataframe\n",
    "X_train_df = pd.DataFrame(X_train)\n",
    "\n",
    "features = [2, 8, 3, 9, 7, 6]\n",
    "best_sub = [] # best subset of features seen\n",
    "best_mse = math.inf # best mean_squared error seen\n",
    "\n",
    "for fi in range(1, len(features)):\n",
    "    # gather data for features\n",
    "    curr_feat = features[:fi]\n",
    "    sub_X = X_train_df[curr_feat]\n",
    "    if len(curr_feat) == 1:\n",
    "        sub_X = sub_X.to_numpy().reshape((-1, 1))\n",
    "        \n",
    "    # create model and test mse\n",
    "    sub_model = linmodel.LinearRegression().fit(sub_X, Y_train)\n",
    "    Y_pred = sub_model.predict(sub_X)\n",
    "    \n",
    "    mse = smets.mean_squared_error(Y_train, Y_pred)\n",
    "    if mse < best_mse:\n",
    "        best_mse = mse\n",
    "        best_sub = curr_feat    \n",
    "\n",
    "print('Best features:', best_sub)"
   ]
  },
  {
   "cell_type": "markdown",
   "metadata": {},
   "source": [
    "Results show that a model with features 2, 3, 7, 8, and 9 demonstrate the best performance on the training data. This also shows my arbitrary choice of cut off point for which features to test was ok, since the wort feature was not deemed useful for the model.\n",
    "\n",
    "Next, I will construct a model using those features and compare results to the model with all features included when predicting the test set. Note, I could have just used output from the above feature search, but I wanted to separate out the different steps for demonstration purposes."
   ]
  },
  {
   "cell_type": "code",
   "execution_count": 33,
   "metadata": {},
   "outputs": [
    {
     "name": "stdout",
     "output_type": "stream",
     "text": [
      "R-squared: 0.4947715182604221\n",
      "Mean-squared error: 2904.4045639031838\n"
     ]
    }
   ],
   "source": [
    "# make data sets use only necessary features\n",
    "feats = [2, 3, 8, 7, 9]\n",
    "new_X_train = X_train_df[feats]\n",
    "new_X_test = pd.DataFrame(X_test)\n",
    "new_X_test = new_X_test[feats]\n",
    "\n",
    "model = linmodel.LinearRegression().fit(new_X_train, Y_train)\n",
    "rsq = model.score(new_X_train, Y_train)\n",
    "print('R-squared:', rsq)\n",
    "\n",
    "Y_pred = model.predict(new_X_test)\n",
    "mse = smets.mean_squared_error(Y_test, Y_pred)\n",
    "print('Mean-squared error:', mse)"
   ]
  },
  {
   "cell_type": "markdown",
   "metadata": {},
   "source": [
    "### Observations ###\n",
    "\n",
    "Model with all features:\n",
    "R^2: 0.533\n",
    "MSE: 2770.258\n",
    "\n",
    "Model with selective features:\n",
    "R^2: 0.495\n",
    "MSE: 2904.405\n",
    "\n",
    "Data shows that with feature selection, model performance on the test set actually degrades slightly (lower R^2 and a higher MSE). It may be that the feature selected model is overfitting slightly. This data set is rather small (train set has ~309 and testing \n"
   ]
  },
  {
   "cell_type": "code",
   "execution_count": null,
   "metadata": {},
   "outputs": [],
   "source": []
  }
 ],
 "metadata": {
  "kernelspec": {
   "display_name": "Python 3",
   "language": "python",
   "name": "python3"
  },
  "language_info": {
   "codemirror_mode": {
    "name": "ipython",
    "version": 3
   },
   "file_extension": ".py",
   "mimetype": "text/x-python",
   "name": "python",
   "nbconvert_exporter": "python",
   "pygments_lexer": "ipython3",
   "version": "3.7.3"
  }
 },
 "nbformat": 4,
 "nbformat_minor": 2
}
