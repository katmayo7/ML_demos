{
 "cells": [
  {
   "cell_type": "markdown",
   "metadata": {},
   "source": [
    "# Regression Practice #\n",
    "\n",
    "The notebook is for practicing implementing linear and logistic regression models. The emphassis is on best implementation practices, so only uses built-in data sets for ease."
   ]
  },
  {
   "cell_type": "code",
   "execution_count": 61,
   "metadata": {},
   "outputs": [],
   "source": [
    "# import necessary packages\n",
    "\n",
    "import pandas as pd\n",
    "import numpy as np\n",
    "from sklearn import datasets, model_selection, feature_selection, preprocessing\n",
    "\n",
    "import sklearn.linear_model as linmodel\n",
    "import sklearn.metrics as smets\n",
    "\n",
    "#import statsmodels.api as stmod\n",
    "\n",
    "import matplotlib.pyplot as plt\n",
    "import math"
   ]
  },
  {
   "cell_type": "markdown",
   "metadata": {},
   "source": [
    "## Linear Regression ##\n",
    "\n",
    "Import built-in diabetes data set from scikit-learn. Data set has 442 samples with 10 features."
   ]
  },
  {
   "cell_type": "code",
   "execution_count": 62,
   "metadata": {},
   "outputs": [],
   "source": [
    "data = datasets.load_diabetes()\n",
    "X = data['data']\n",
    "Y = data['target']\n",
    "feature_names = data['feature_names']\n",
    "\n",
    "X_train,X_test,Y_train,Y_test = model_selection.train_test_split(X, Y, train_size=0.7)"
   ]
  },
  {
   "cell_type": "markdown",
   "metadata": {},
   "source": [
    "Create a linear regression model using all features. \n",
    "Print model information including coefficients, intercept, and R^2 value.\n",
    "Evaluate using mean squared error on the test set."
   ]
  },
  {
   "cell_type": "code",
   "execution_count": 63,
   "metadata": {},
   "outputs": [
    {
     "name": "stdout",
     "output_type": "stream",
     "text": [
      "Coefficients: [ -20.0224976  -274.79403458  528.75341135  324.90078073 -715.51780411\n",
      "  445.17681063   61.74011666  158.69137652  760.34448146   64.45018143]\n",
      "Intercept: 153.1619206940207\n",
      "R-squared: 0.5371118702495459\n",
      "\n",
      "Mean squared error: 2958.7440006294887\n"
     ]
    }
   ],
   "source": [
    "model = linmodel.LinearRegression().fit(X_train, Y_train)\n",
    "print('Coefficients:', model.coef_)\n",
    "print('Intercept:', model.intercept_)\n",
    "rsq = model.score(X_train, Y_train)\n",
    "print('R-squared:', rsq)\n",
    "print()\n",
    "\n",
    "Y_pred = model.predict(X_test)\n",
    "mse = smets.mean_squared_error(Y_test, Y_pred)\n",
    "print('Mean squared error:', mse)"
   ]
  },
  {
   "cell_type": "markdown",
   "metadata": {},
   "source": [
    "Implement feature selection using SelectKBest() with f_regression() functions to identify the value of each feature. Graph the results to visual which features are useful."
   ]
  },
  {
   "cell_type": "code",
   "execution_count": 64,
   "metadata": {},
   "outputs": [
    {
     "data": {
      "image/png": "[encoded data removed]",
      "text/plain": [
       "<Figure size 432x288 with 1 Axes>"
      ]
     },
     "metadata": {
      "needs_background": "light"
     },
     "output_type": "display_data"
    }
   ],
   "source": [
    "# used to test the output of SelectKBest\n",
    "#f_st,p_val = feature_selection.f_regression(X_train, Y_train)\n",
    "#print(f_st)\n",
    "#print()\n",
    "#print(p_val)\n",
    "\n",
    "fit_model = feature_selection.SelectKBest(score_func=feature_selection.f_regression, k='all')\n",
    "fit_model.fit(X_train, Y_train)\n",
    "scores = fit_model.scores_\n",
    "\n",
    "x_ind = np.arange(len(scores))\n",
    "plt.bar(x_ind, scores)\n",
    "plt.show()"
   ]
  },
  {
   "cell_type": "markdown",
   "metadata": {},
   "source": [
    "Based on results, it looks like the best feature is 2, while 8 is also useful. It seems like there are several other useful features, though 1, 5, and 4 are least useful. \n",
    "\n",
    "As an arbitrary choice, I will assume adding features 2, 3, 6, 7, 8, 9 as possibly useful for model construction and worthwhile exploring. The number of features that should be used can be viewed as a hyperparameter which can be searched over. \n",
    "\n",
    "I will test constructing a model with features, in order of importance by f-statistic and find which offers the best performance on the training data as measured by mean-squared error. When adding a feature to the model, I will continue including the strategies that were deemed more important than it."
   ]
  },
  {
   "cell_type": "code",
   "execution_count": 65,
   "metadata": {},
   "outputs": [
    {
     "name": "stdout",
     "output_type": "stream",
     "text": [
      "Best features: [2, 8, 7, 3, 9]\n"
     ]
    }
   ],
   "source": [
    "# running with subsets of the data will probably be easiest by turning data into dataframe\n",
    "X_train_df = pd.DataFrame(X_train)\n",
    "\n",
    "features = [2, 8, 7, 3, 9, 6]\n",
    "best_sub = [] # best subset of features seen\n",
    "best_mse = math.inf # best mean_squared error seen\n",
    "\n",
    "for fi in range(1, len(features)):\n",
    "    # gather data for features\n",
    "    curr_feat = features[:fi]\n",
    "    sub_X = X_train_df[curr_feat]\n",
    "    if len(curr_feat) == 1:\n",
    "        sub_X = sub_X.to_numpy().reshape((-1, 1))\n",
    "        \n",
    "    # create model and test mse\n",
    "    sub_model = linmodel.LinearRegression().fit(sub_X, Y_train)\n",
    "    Y_pred = sub_model.predict(sub_X)\n",
    "    \n",
    "    mse = smets.mean_squared_error(Y_train, Y_pred)\n",
    "    if mse < best_mse:\n",
    "        best_mse = mse\n",
    "        best_sub = curr_feat    \n",
    "\n",
    "print('Best features:', best_sub)"
   ]
  },
  {
   "cell_type": "markdown",
   "metadata": {},
   "source": [
    "Results show that a model with features 2, 3, 7, 8, and 9 demonstrate the best performance on the training data. This also shows my arbitrary choice of cut off point for which features to test was ok, since the wort feature was not deemed useful for the model.\n",
    "\n",
    "Next, I will construct a model using those features and compare results to the model with all features included when predicting the test set. Note, I could have just used output from the above feature search, but I wanted to separate out the different steps for demonstration purposes."
   ]
  },
  {
   "cell_type": "code",
   "execution_count": 6,
   "metadata": {},
   "outputs": [
    {
     "name": "stdout",
     "output_type": "stream",
     "text": [
      "R-squared: 0.4826258865786448\n",
      "Mean-squared error: 3278.2439983415134\n"
     ]
    }
   ],
   "source": [
    "# make data sets use only necessary features\n",
    "feats = [2, 3, 7, 8, 9]\n",
    "new_X_train = X_train_df[feats]\n",
    "new_X_test = pd.DataFrame(X_test)\n",
    "new_X_test = new_X_test[feats]\n",
    "\n",
    "model = linmodel.LinearRegression().fit(new_X_train, Y_train)\n",
    "rsq = model.score(new_X_train, Y_train)\n",
    "print('R-squared:', rsq)\n",
    "\n",
    "Y_pred = model.predict(new_X_test)\n",
    "mse = smets.mean_squared_error(Y_test, Y_pred)\n",
    "print('Mean-squared error:', mse)"
   ]
  },
  {
   "cell_type": "markdown",
   "metadata": {},
   "source": [
    "### Observations ###\n",
    "\n",
    "Model with all features:\n",
    "R^2: 0.523\n",
    "MSE: 3126.589\n",
    "\n",
    "Model with selective features:\n",
    "R^2: 0.483\n",
    "MSE: 3278.244\n",
    "\n",
    "Data shows that with feature selection, model performance on the test set actually degrades slightly (lower R^2 and a higher MSE). It may be that the feature selected model is overfitting slightly. This data set is rather small (train set has ~309 and testing \n"
   ]
  },
  {
   "cell_type": "markdown",
   "metadata": {},
   "source": [
    "#### Second example using the California Housing data set. ####"
   ]
  },
  {
   "cell_type": "code",
   "execution_count": 27,
   "metadata": {},
   "outputs": [
    {
     "name": "stdout",
     "output_type": "stream",
     "text": [
      "---------------------------\n",
      "All features:\n",
      "--R-squared: 0.6061736167815731\n",
      "--MSE: 0.5191254571317265\n",
      "---------------------------\n"
     ]
    },
    {
     "data": {
      "image/png": "[encoded data removed]",
      "text/plain": [
       "<Figure size 432x288 with 1 Axes>"
      ]
     },
     "metadata": {
      "needs_background": "light"
     },
     "output_type": "display_data"
    },
    {
     "name": "stdout",
     "output_type": "stream",
     "text": [
      "---------------------------\n",
      "All features:\n",
      "--R-squared: 0.4761897524966152\n",
      "--MSE: 0.701149848292339\n",
      "---------------------------\n"
     ]
    }
   ],
   "source": [
    "# test the above using a different data set\n",
    "data = datasets.fetch_california_housing(as_frame=True)\n",
    "fnames = data['feature_names']\n",
    "X = data['data']\n",
    "Y = data['target']\n",
    "\n",
    "X_train,X_test,Y_train,Y_test = model_selection.train_test_split(X, Y, train_size=0.7)\n",
    "\n",
    "# construct model with all data\n",
    "model = linmodel.LinearRegression().fit(X_train, Y_train)\n",
    "rsq = model.score(X_train, Y_train)\n",
    "Y_pred = model.predict(X_test)\n",
    "mse = smets.mean_squared_error(Y_test, Y_pred)\n",
    "print('---------------------------')\n",
    "print('All features:')\n",
    "print('--R-squared:', rsq)\n",
    "print('--MSE:', mse)\n",
    "print('---------------------------')\n",
    "\n",
    "# perform feature selection\n",
    "fmodel = feature_selection.SelectKBest(score_func=feature_selection.f_regression, k='all')\n",
    "fmodel.fit(X_train, Y_train)\n",
    "scores = fmodel.scores_\n",
    "\n",
    "plt.bar(fnames, scores)\n",
    "plt.xticks(rotation=90)\n",
    "plt.show()\n",
    "\n",
    "# create model using top features\n",
    "new_X_train = X_train[['MedInc']]\n",
    "new_X_test = X_test[['MedInc']]\n",
    "\n",
    "model = linmodel.LinearRegression().fit(new_X_train, Y_train)\n",
    "rsq = model.score(new_X_train, Y_train)\n",
    "Y_pred = model.predict(new_X_test)\n",
    "mse = smets.mean_squared_error(Y_test, Y_pred)\n",
    "print('---------------------------')\n",
    "print('All features:')\n",
    "print('--R-squared:', rsq)\n",
    "print('--MSE:', mse)\n",
    "print('---------------------------')"
   ]
  },
  {
   "cell_type": "markdown",
   "metadata": {},
   "source": [
    "Similarly finding that feature selection is showing slightly degraded performance. Think in both cases, while there's not as much information coming from the other features, they are still signaling something of use for the model."
   ]
  },
  {
   "cell_type": "markdown",
   "metadata": {},
   "source": [
    "## Logistic Regression ##\n",
    "\n",
    "Import scikit-learn built-in cancer data set, which has 2 classes (Malignant: 212 samples, Benign: 357 samples). There are 30 features."
   ]
  },
  {
   "cell_type": "code",
   "execution_count": 43,
   "metadata": {},
   "outputs": [
    {
     "name": "stdout",
     "output_type": "stream",
     "text": [
      "Features: ['mean radius' 'mean texture' 'mean perimeter' 'mean area'\n",
      " 'mean smoothness' 'mean compactness' 'mean concavity'\n",
      " 'mean concave points' 'mean symmetry' 'mean fractal dimension'\n",
      " 'radius error' 'texture error' 'perimeter error' 'area error'\n",
      " 'smoothness error' 'compactness error' 'concavity error'\n",
      " 'concave points error' 'symmetry error' 'fractal dimension error'\n",
      " 'worst radius' 'worst texture' 'worst perimeter' 'worst area'\n",
      " 'worst smoothness' 'worst compactness' 'worst concavity'\n",
      " 'worst concave points' 'worst symmetry' 'worst fractal dimension']\n"
     ]
    }
   ],
   "source": [
    "data = datasets.load_breast_cancer()\n",
    "X = data['data']\n",
    "Y = data['target']\n",
    "fnames = data['feature_names']\n",
    "print('Features:', fnames)\n",
    "\n",
    "# apply normalization to fix logistic regression over stopping iterations\n",
    "X = preprocessing.Normalizer().fit_transform(X, Y)\n",
    "\n",
    "X_train,X_test,Y_train,Y_test = model_selection.train_test_split(X, Y, train_size=0.7)"
   ]
  },
  {
   "cell_type": "markdown",
   "metadata": {},
   "source": [
    "Create a logistic regression model using all the features."
   ]
  },
  {
   "cell_type": "code",
   "execution_count": 44,
   "metadata": {},
   "outputs": [
    {
     "name": "stdout",
     "output_type": "stream",
     "text": [
      "Accuracy: 0.7426900584795322\n"
     ]
    }
   ],
   "source": [
    "model = linmodel.LogisticRegression(max_iter=100).fit(X_train, Y_train)\n",
    "#Y_pred = model.predict(X_test)\n",
    "acc = model.score(X_test, Y_test)\n",
    "print('Accuracy:', acc)"
   ]
  },
  {
   "cell_type": "code",
   "execution_count": null,
   "metadata": {},
   "outputs": [],
   "source": []
  }
 ],
 "metadata": {
  "kernelspec": {
   "display_name": "Python 3",
   "language": "python",
   "name": "python3"
  },
  "language_info": {
   "codemirror_mode": {
    "name": "ipython",
    "version": 3
   },
   "file_extension": ".py",
   "mimetype": "text/x-python",
   "name": "python",
   "nbconvert_exporter": "python",
   "pygments_lexer": "ipython3",
   "version": "3.7.3"
  }
 },
 "nbformat": 4,
 "nbformat_minor": 2
}
