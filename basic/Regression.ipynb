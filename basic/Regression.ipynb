{
 "cells": [
  {
   "cell_type": "markdown",
   "metadata": {},
   "source": [
    "# Regression Practice #\n",
    "\n",
    "The notebook is for practicing implementing linear and logistic regression models."
   ]
  },
  {
   "cell_type": "code",
   "execution_count": 1,
   "metadata": {},
   "outputs": [],
   "source": [
    "# import necessary packages\n",
    "\n",
    "import pandas as pd\n",
    "import numpy as np\n",
    "from sklearn import datasets, model_selection, feature_selection, preprocessing\n",
    "\n",
    "import sklearn.linear_model as linmodel\n",
    "import sklearn.metrics as smets\n",
    "\n",
    "#import statsmodels.api as stmod\n",
    "\n",
    "import matplotlib.pyplot as plt\n",
    "import math"
   ]
  },
  {
   "cell_type": "markdown",
   "metadata": {},
   "source": [
    "## Linear Regression ##\n",
    "\n",
    "Linear regression estimales a linear relationship between a set of data point to minimize the distance between points and the classification line.\n",
    "\n",
    "Given a data set of n data points, ${x_{11}, \\dotsc, x_{np}}$, with $p$ \n",
    "features and set of labels ${y_1, \\dotsc, y_n}$.\n",
    "\n",
    "The model is:\n",
    "\n",
    "<center>$y_i = \\beta_0 + \\beta_1x_{11} + \\dotsc + \\beta_px_{np}$</center>\n",
    "\n",
    "With $\\beta_1, \\dotsc, \\beta_p$ called the coefficients and $\\beta_0$ called the intercept.\n",
    "\n",
    "The coefficients are fitted to the minimize the sum of square differences between the observed and predicted values.\n",
    "\n",
    "<center>$\\sum_{i=1} (y_i - \\hat{y}_i)^2$</center>"
   ]
  },
  {
   "cell_type": "markdown",
   "metadata": {},
   "source": [
    "#### Data Prcessing ####\n",
    "\n",
    "Import built-in diabetes data set from scikit-learn. The data set has 442 samples with 10 features. Split the data set into a training and test set."
   ]
  },
  {
   "cell_type": "code",
   "execution_count": 2,
   "metadata": {},
   "outputs": [],
   "source": [
    "data = datasets.load_diabetes()\n",
    "X = data['data']\n",
    "Y = data['target']\n",
    "feature_names = data['feature_names']\n",
    "\n",
    "X_train,X_test,Y_train,Y_test = model_selection.train_test_split(X, Y, train_size=0.7)"
   ]
  },
  {
   "cell_type": "markdown",
   "metadata": {},
   "source": [
    "#### Model Creation ####\n",
    "\n",
    "Create a linear regression model using all features. \n",
    "Print model information including coefficients, intercept, and $R^2$ value.\n",
    "Evaluate using mean squared error on the test set."
   ]
  },
  {
   "cell_type": "code",
   "execution_count": 4,
   "metadata": {},
   "outputs": [
    {
     "name": "stdout",
     "output_type": "stream",
     "text": [
      "Coefficients: [  -22.26814641  -241.42457426   436.67850078   356.08475788\n",
      " -1217.1231068    731.7094332    307.02622289   263.88164544\n",
      "   941.51276238   113.56295229]\n",
      "Intercept: 154.07044007493036\n",
      "\n",
      "R-squared: 0.5236615315502134\n",
      "\n",
      "Mean squared error: 3030.2058457271664\n"
     ]
    }
   ],
   "source": [
    "model = linmodel.LinearRegression().fit(X_train, Y_train)\n",
    "print('Coefficients:', model.coef_)\n",
    "print('Intercept:', model.intercept_)\n",
    "print()\n",
    "rsq = model.score(X_train, Y_train)\n",
    "print('R-squared:', rsq)\n",
    "print()\n",
    "\n",
    "Y_pred = model.predict(X_test)\n",
    "mse = smets.mean_squared_error(Y_test, Y_pred)\n",
    "print('Mean squared error:', mse)"
   ]
  },
  {
   "cell_type": "markdown",
   "metadata": {},
   "source": [
    "#### Feature Engineering ####\n",
    "\n",
    "Implement feature selection using SelectKBest() with f_regression() functions to identify the value of each feature. Graph the results to visual which features are useful."
   ]
  },
  {
   "cell_type": "code",
   "execution_count": 5,
   "metadata": {},
   "outputs": [
    {
     "data": {
      "image/png": "[encoded data removed]",
      "text/plain": [
       "<Figure size 432x288 with 1 Axes>"
      ]
     },
     "metadata": {
      "needs_background": "light"
     },
     "output_type": "display_data"
    }
   ],
   "source": [
    "# used to test the output of SelectKBest\n",
    "#f_st,p_val = feature_selection.f_regression(X_train, Y_train)\n",
    "#print(f_st)\n",
    "#print()\n",
    "#print(p_val)\n",
    "\n",
    "fit_model = feature_selection.SelectKBest(score_func=feature_selection.f_regression, k='all')\n",
    "fit_model.fit(X_train, Y_train)\n",
    "scores = fit_model.scores_\n",
    "\n",
    "x_ind = np.arange(len(scores))\n",
    "plt.bar(x_ind, scores)\n",
    "plt.show()"
   ]
  },
  {
   "cell_type": "markdown",
   "metadata": {},
   "source": [
    "Based on results, it looks like the best feature is 2, while 8 is also useful. It seems like there are several other useful features, though 1, 5, and 4 are least useful. \n",
    "\n",
    "#### Model Creation with Feature Engineering ####\n",
    "\n",
    "As an arbitrary choice, I will assume adding features 2, 3, 6, 7, 8, 9 as possibly useful for model construction and worthwhile exploring. The number of features that should be used can be viewed as a hyperparameter which can be searched over. \n",
    "\n",
    "I will test constructing a model with features, in order of importance by f-statistic and find which offers the best performance on the training data as measured by mean-squared error. When adding a feature to the model, I will continue including the strategies that were deemed more important than it."
   ]
  },
  {
   "cell_type": "code",
   "execution_count": 6,
   "metadata": {},
   "outputs": [
    {
     "name": "stdout",
     "output_type": "stream",
     "text": [
      "Best features: [2, 8, 7, 3, 9]\n"
     ]
    }
   ],
   "source": [
    "# running with subsets of the data will probably be easiest by turning data into dataframe\n",
    "X_train_df = pd.DataFrame(X_train)\n",
    "\n",
    "features = [2, 8, 7, 3, 9, 6]\n",
    "best_sub = [] # best subset of features seen\n",
    "best_mse = math.inf # best mean_squared error seen\n",
    "\n",
    "for fi in range(1, len(features)):\n",
    "    # gather data for features\n",
    "    curr_feat = features[:fi]\n",
    "    sub_X = X_train_df[curr_feat]\n",
    "    if len(curr_feat) == 1:\n",
    "        sub_X = sub_X.to_numpy().reshape((-1, 1))\n",
    "        \n",
    "    # create model and test mse\n",
    "    sub_model = linmodel.LinearRegression().fit(sub_X, Y_train)\n",
    "    Y_pred = sub_model.predict(sub_X)\n",
    "    \n",
    "    mse = smets.mean_squared_error(Y_train, Y_pred)\n",
    "    if mse < best_mse:\n",
    "        best_mse = mse\n",
    "        best_sub = curr_feat    \n",
    "\n",
    "print('Best features:', best_sub)"
   ]
  },
  {
   "cell_type": "markdown",
   "metadata": {},
   "source": [
    "Results show that a model with features 2, 3, 7, 8, and 9 demonstrate the best performance on the training data. This also shows my arbitrary choice of cut off point for which features to test was ok, since the wort feature was not deemed useful for the model.\n",
    "\n",
    "Next, I will construct a model using those features and compare results to the model with all features included when predicting the test set. Note, I could have just used output from the above feature search, but I wanted to separate out the different steps for demonstration purposes."
   ]
  },
  {
   "cell_type": "code",
   "execution_count": 7,
   "metadata": {},
   "outputs": [
    {
     "name": "stdout",
     "output_type": "stream",
     "text": [
      "R-squared: 0.47313327318464626\n",
      "Mean-squared error: 3003.9242041177\n"
     ]
    }
   ],
   "source": [
    "# make data sets use only necessary features\n",
    "feats = [2, 3, 7, 8, 9]\n",
    "new_X_train = X_train_df[feats]\n",
    "new_X_test = pd.DataFrame(X_test)\n",
    "new_X_test = new_X_test[feats]\n",
    "\n",
    "model = linmodel.LinearRegression().fit(new_X_train, Y_train)\n",
    "rsq = model.score(new_X_train, Y_train)\n",
    "print('R-squared:', rsq)\n",
    "\n",
    "Y_pred = model.predict(new_X_test)\n",
    "mse = smets.mean_squared_error(Y_test, Y_pred)\n",
    "print('Mean-squared error:', mse)"
   ]
  },
  {
   "cell_type": "markdown",
   "metadata": {},
   "source": [
    "### Observations ###\n",
    "\n",
    "Model with all features:\n",
    "R^2: 0.523\n",
    "MSE: 3126.589\n",
    "\n",
    "Model with selective features:\n",
    "R^2: 0.483\n",
    "MSE: 3278.244\n",
    "\n",
    "Data shows that with feature selection, model performance on the test set actually degrades slightly (lower R^2 and a higher MSE). It may be that the feature selected model is overfitting slightly. This data set is rather small (train set has ~309 and testing \n"
   ]
  },
  {
   "cell_type": "markdown",
   "metadata": {},
   "source": [
    "#### Second example using the California Housing data set. ####"
   ]
  },
  {
   "cell_type": "code",
   "execution_count": 8,
   "metadata": {},
   "outputs": [
    {
     "name": "stdout",
     "output_type": "stream",
     "text": [
      "---------------------------\n",
      "All features:\n",
      "--R-squared: 0.6070522363613844\n",
      "--MSE: 0.5287987809209836\n",
      "---------------------------\n"
     ]
    },
    {
     "data": {
      "image/png": "[encoded data removed]",
      "text/plain": [
       "<Figure size 432x288 with 1 Axes>"
      ]
     },
     "metadata": {
      "needs_background": "light"
     },
     "output_type": "display_data"
    },
    {
     "name": "stdout",
     "output_type": "stream",
     "text": [
      "---------------------------\n",
      "All features:\n",
      "--R-squared: 0.47786963577496133\n",
      "--MSE: 0.7165600593210025\n",
      "---------------------------\n"
     ]
    }
   ],
   "source": [
    "# test the above using a different data set\n",
    "data = datasets.fetch_california_housing(as_frame=True)\n",
    "fnames = data['feature_names']\n",
    "X = data['data']\n",
    "Y = data['target']\n",
    "\n",
    "X_train,X_test,Y_train,Y_test = model_selection.train_test_split(X, Y, train_size=0.7)\n",
    "\n",
    "# construct model with all data\n",
    "model = linmodel.LinearRegression().fit(X_train, Y_train)\n",
    "rsq = model.score(X_train, Y_train)\n",
    "Y_pred = model.predict(X_test)\n",
    "mse = smets.mean_squared_error(Y_test, Y_pred)\n",
    "print('---------------------------')\n",
    "print('All features:')\n",
    "print('--R-squared:', rsq)\n",
    "print('--MSE:', mse)\n",
    "print('---------------------------')\n",
    "\n",
    "# perform feature selection\n",
    "fmodel = feature_selection.SelectKBest(score_func=feature_selection.f_regression, k='all')\n",
    "fmodel.fit(X_train, Y_train)\n",
    "scores = fmodel.scores_\n",
    "\n",
    "plt.bar(fnames, scores)\n",
    "plt.xticks(rotation=90)\n",
    "plt.show()\n",
    "\n",
    "# create model using top features\n",
    "new_X_train = X_train[['MedInc']]\n",
    "new_X_test = X_test[['MedInc']]\n",
    "\n",
    "model = linmodel.LinearRegression().fit(new_X_train, Y_train)\n",
    "rsq = model.score(new_X_train, Y_train)\n",
    "Y_pred = model.predict(new_X_test)\n",
    "mse = smets.mean_squared_error(Y_test, Y_pred)\n",
    "print('---------------------------')\n",
    "print('All features:')\n",
    "print('--R-squared:', rsq)\n",
    "print('--MSE:', mse)\n",
    "print('---------------------------')"
   ]
  },
  {
   "cell_type": "markdown",
   "metadata": {},
   "source": [
    "Similarly finding that feature selection is showing slightly degraded performance. Think in both cases, while there's not as much information coming from the other features, they are still signaling something of use for the model."
   ]
  },
  {
   "cell_type": "markdown",
   "metadata": {},
   "source": [
    "## Logistic Regression ##\n",
    "\n",
    "Logistics regression uses the linear regression model to a classification task. The output from the linear regression model, $\\hat{y}$, is used to calculate the probability of belonging to class 0 or 1 using the sigmoid function.\n",
    "\n",
    "<center>$p(\\hat{y}' = 0) = \\frac{1}{1-e^{-\\hat{y}}}$</center>\n",
    "<center>$p(\\hat{y}' = 1) = 1 - p(\\hat{y})$</center>"
   ]
  },
  {
   "cell_type": "markdown",
   "metadata": {},
   "source": [
    "#### Data Processing ####\n",
    "\n",
    "Import the scikit-learn built-in cancer data set, which as 2 classes (Maignant: 212 samples and Benign: 357 samples). There are 30 features. The data is partitioned into training and testing sets."
   ]
  },
  {
   "cell_type": "code",
   "execution_count": 9,
   "metadata": {},
   "outputs": [
    {
     "name": "stdout",
     "output_type": "stream",
     "text": [
      "Features: ['mean radius' 'mean texture' 'mean perimeter' 'mean area'\n",
      " 'mean smoothness' 'mean compactness' 'mean concavity'\n",
      " 'mean concave points' 'mean symmetry' 'mean fractal dimension'\n",
      " 'radius error' 'texture error' 'perimeter error' 'area error'\n",
      " 'smoothness error' 'compactness error' 'concavity error'\n",
      " 'concave points error' 'symmetry error' 'fractal dimension error'\n",
      " 'worst radius' 'worst texture' 'worst perimeter' 'worst area'\n",
      " 'worst smoothness' 'worst compactness' 'worst concavity'\n",
      " 'worst concave points' 'worst symmetry' 'worst fractal dimension']\n"
     ]
    }
   ],
   "source": [
    "data = datasets.load_breast_cancer()\n",
    "X = data['data']\n",
    "Y = data['target']\n",
    "fnames = data['feature_names']\n",
    "print('Features:', fnames)\n",
    "\n",
    "# apply normalization to fix logistic regression over stopping iterations\n",
    "X = preprocessing.Normalizer().fit_transform(X, Y)\n",
    "\n",
    "X_train,X_test,Y_train,Y_test = model_selection.train_test_split(X, Y, train_size=0.7)"
   ]
  },
  {
   "cell_type": "markdown",
   "metadata": {},
   "source": [
    "Create a logistic regression model using all the features."
   ]
  },
  {
   "cell_type": "code",
   "execution_count": 10,
   "metadata": {},
   "outputs": [
    {
     "name": "stdout",
     "output_type": "stream",
     "text": [
      "Accuracy: 0.6842105263157895\n",
      "Precision: 0.6447368421052632\n",
      "Recall: 1.0\n",
      "F1 score: 0.7839999999999999\n"
     ]
    }
   ],
   "source": [
    "model = linmodel.LogisticRegression(max_iter=100).fit(X_train, Y_train)\n",
    "Y_pred = model.predict(X_test)\n",
    "\n",
    "acc = model.score(X_test, Y_test)\n",
    "print('Accuracy:', acc)\n",
    "prec = smets.precision_score(Y_test, Y_pred)\n",
    "print('Precision:', prec)\n",
    "recall = smets.recall_score(Y_test, Y_pred)\n",
    "print('Recall:', recall)\n",
    "f1 = smets.f1_score(Y_test, Y_pred)\n",
    "print('F1 score:', f1)"
   ]
  },
  {
   "cell_type": "markdown",
   "metadata": {},
   "source": [
    "#### Analysis ####\n",
    "\n",
    "The recall results show the model is very good at identifying the truely malignant cases. However, the precision results show there are a handful of benign cases that have erronously been labeled as malignant. These results are reflected in the F1 score as well."
   ]
  },
  {
   "cell_type": "markdown",
   "metadata": {},
   "source": [
    "#### Multinomial Logistic Regression Note ####\n",
    "\n",
    "This examples is a binary case. However, logistic regression can also be used for $K > 2$ classes. In this case, $K$ binary logistic regression models are created and a softmax function is used instead to calculate the probability of belonging to a given class, $k$.\n",
    "\n",
    "<center>$p(\\hat{y}' = k) = \\frac{e^{\\hat{y}_k}}{1 + \\sum_{j=1}^{K} e^{\\hat{y}_j}}$</center>"
   ]
  },
  {
   "cell_type": "code",
   "execution_count": null,
   "metadata": {},
   "outputs": [],
   "source": []
  }
 ],
 "metadata": {
  "kernelspec": {
   "display_name": "Python 3",
   "language": "python",
   "name": "python3"
  },
  "language_info": {
   "codemirror_mode": {
    "name": "ipython",
    "version": 3
   },
   "file_extension": ".py",
   "mimetype": "text/x-python",
   "name": "python",
   "nbconvert_exporter": "python",
   "pygments_lexer": "ipython3",
   "version": "3.7.3"
  }
 },
 "nbformat": 4,
 "nbformat_minor": 2
}
