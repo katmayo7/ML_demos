{
 "cells": [
  {
   "cell_type": "markdown",
   "metadata": {},
   "source": [
    "# Naive Bayes #\n",
    "\n",
    "Naive Bayes is a supervised learning algorithm that applies Bayes theorem for predicting.\n",
    "\n",
    "Bayes Theorem: \n",
    "<center>{$P(Y|X) = \\frac{P(X|Y)P(Y)}{P(X)}$}</center>\n",
    "\n",
    "Using Bayes to predict label (y) from feature vector $x_1, \\dotsc, x_n$: \n",
    "<center>$P(y|x_1, \\dotsc, x_n) = \\frac{P(x_1, \\dotsc, x_n)P(y)}{P(x_1, \\dotsc, x_n)}$</center>\n",
    "\n",
    "Assumption: conditional independence between pairs of features\n",
    "\n",
    "So labeling equation becomes:\n",
    "<center>$\\hat{y} = \\mathsf{argmax}_y P(y)\\prod_{i=1}^n P(x_i|y)$</center>\n",
    "\n",
    "Calculate $P(y)$ and $P(x_i|y)$ using the data set."
   ]
  },
  {
   "cell_type": "code",
   "execution_count": 9,
   "metadata": {},
   "outputs": [],
   "source": [
    "# import necessary packages\n",
    "\n",
    "from sklearn import datasets, model_selection, metrics\n",
    "from sklearn import naive_bayes as nb"
   ]
  },
  {
   "cell_type": "markdown",
   "metadata": {},
   "source": [
    "### Data set ###\n",
    "\n",
    "Import Iris built-in data set from scikit-learn for illustrating Naive Bayes implementation.\n",
    "\n",
    "Seperate data into train and test."
   ]
  },
  {
   "cell_type": "code",
   "execution_count": 6,
   "metadata": {},
   "outputs": [],
   "source": [
    "data = datasets.load_iris()\n",
    "X = data['data']\n",
    "Y = data['target']\n",
    "\n",
    "X_train,X_test,Y_train,Y_test = model_selection.train_test_split(X, Y, train_size=0.7)"
   ]
  },
  {
   "cell_type": "markdown",
   "metadata": {},
   "source": [
    "### Model implementation with scikit-learn ###"
   ]
  },
  {
   "cell_type": "code",
   "execution_count": 11,
   "metadata": {},
   "outputs": [],
   "source": [
    "model = nb.GaussianNB().fit(X, Y)\n",
    "Y_pred = model.predict(X_test)"
   ]
  },
  {
   "cell_type": "markdown",
   "metadata": {},
   "source": [
    "### Model Analysis ###\n",
    "\n",
    "Analyze the resulting model using accuracy and the confusion matrix.\n",
    "\n",
    "Confusion Matrix:\n",
    "Entry [i, j] in the matrix is the number of samples truly labeled i but predicted to be j"
   ]
  },
  {
   "cell_type": "code",
   "execution_count": 12,
   "metadata": {},
   "outputs": [
    {
     "name": "stdout",
     "output_type": "stream",
     "text": [
      "Accuracy on training: 0.9619047619047619\n",
      "Accuracy on testing: 0.9555555555555556\n",
      "\n",
      "[[14  0  0]\n",
      " [ 0 16  1]\n",
      " [ 0  1 13]]\n"
     ]
    }
   ],
   "source": [
    "# accuracy on training data\n",
    "train_acc = model.score(X_train, Y_train)\n",
    "print('Accuracy on training:', train_acc)\n",
    "\n",
    "# accuracy on testing data\n",
    "test_acc = model.score(X_test, Y_test)\n",
    "print('Accuracy on testing:', test_acc)\n",
    "print()\n",
    "\n",
    "matrix = metrics.confusion_matrix(Y_test, Y_pred)\n",
    "print(matrix)"
   ]
  },
  {
   "cell_type": "markdown",
   "metadata": {},
   "source": [
    "Accuracy of the model is fairly high on the test set, indicating it is doing a fairly good job at classifying the flowers.\n",
    "\n",
    "Confusion matrix formatted:\n",
    "\n",
    "| | Actual 0 | Actual 1 | Acutal 2|\n",
    "| ------- | ------- | ------- | ------- |\n",
    "| Predict 0 | 14 | 0 | 0 |\n",
    "| Predict 1| 0 | 16 | 1 |\n",
    "| Predict 2| 0 | 1 | 13 |\n",
    "\n",
    "Based on the confusion matrix, the model:\n",
    "* Class 0:\n",
    "    * True positives: 14\n",
    "    * False positives:\n",
    "    * False negatives:\n",
    "    * True negatives: \n",
    "* Class 1:\n",
    "    * True positives:\n",
    "    * False positives: \n",
    "    * False negatives:\n",
    "    * True negatives:\n",
    "* Class 2:\n",
    "    * True positives:\n",
    "    * False positives: \n",
    "    * False negatives: \n",
    "    * True negatives: "
   ]
  },
  {
   "cell_type": "code",
   "execution_count": null,
   "metadata": {},
   "outputs": [],
   "source": []
  }
 ],
 "metadata": {
  "kernelspec": {
   "display_name": "Python 3",
   "language": "python",
   "name": "python3"
  },
  "language_info": {
   "codemirror_mode": {
    "name": "ipython",
    "version": 3
   },
   "file_extension": ".py",
   "mimetype": "text/x-python",
   "name": "python",
   "nbconvert_exporter": "python",
   "pygments_lexer": "ipython3",
   "version": "3.7.3"
  }
 },
 "nbformat": 4,
 "nbformat_minor": 2
}
